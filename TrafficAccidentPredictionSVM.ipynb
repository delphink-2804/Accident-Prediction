{
  "nbformat": 4,
  "nbformat_minor": 0,
  "metadata": {
    "colab": {
      "provenance": []
    },
    "kernelspec": {
      "name": "python3",
      "display_name": "Python 3"
    },
    "language_info": {
      "name": "python"
    }
  },
  "cells": [
    {
      "cell_type": "code",
      "execution_count": null,
      "metadata": {
        "id": "QLNxGcjDeVzP"
      },
      "outputs": [],
      "source": [
        "#TrafficAccidentPrediction"
      ]
    },
    {
      "cell_type": "code",
      "source": [
        "import pandas as pd\n",
        "from sklearn.model_selection import train_test_split, GridSearchCV, StratifiedKFold\n",
        "from sklearn.svm import SVC\n",
        "from sklearn.preprocessing import StandardScaler\n",
        "from sklearn.metrics import accuracy_score\n",
        "import warnings\n",
        "\n",
        "warnings.filterwarnings(\"ignore\")\n",
        "\n",
        "data = pd.read_excel('/content/drive/MyDrive/Traffic_Accidents.xlsx')\n",
        "\n",
        "X = data[['Traffic_Volume', 'Road_Type', 'Weather_Conditions', 'Speed_of_Vehicle', 'Traffic_Density']]\n",
        "y = data['Accident_Occurred']\n",
        "\n",
        "X = pd.get_dummies(X)\n",
        "\n",
        "X_train, X_test, y_train, y_test = train_test_split(X, y, test_size=0.2, random_state=42, stratify=y)\n",
        "\n",
        "scaler = StandardScaler()\n",
        "X_train_scaled = scaler.fit_transform(X_train)\n",
        "X_test_scaled = scaler.transform(X_test)\n",
        "\n",
        "param_grid = {'C': [0.1, 1, 10, 100], 'gamma': ['scale', 'auto'], 'kernel': ['linear', 'rbf']}\n",
        "\n",
        "cv = StratifiedKFold(n_splits=3)\n",
        "\n",
        "svm_model = GridSearchCV(SVC(), param_grid, cv=cv)\n",
        "\n",
        "svm_model.fit(X_train_scaled, y_train)\n",
        "'''\n",
        "# Calculate accuracy on the test set\n",
        "y_pred = svm_model.predict(X_test_scaled)\n",
        "accuracy = accuracy_score(y_test, y_pred)\n",
        "print(f\"Model Accuracy: {accuracy * 100:.2f}%\")'''\n",
        "\n",
        "def predict_accident_risk(real_time_data):\n",
        "\n",
        "    real_time_data_encoded = pd.get_dummies(real_time_data)\n",
        "\n",
        "    real_time_data_encoded = real_time_data_encoded.reindex(columns=X_train.columns, fill_value=0)\n",
        "\n",
        "    real_time_data_scaled = scaler.transform(real_time_data_encoded)\n",
        "\n",
        "    prediction = svm_model.predict(real_time_data_scaled)\n",
        "\n",
        "    reason = []\n",
        "    if real_time_data['Speed_of_Vehicle'].values[0] > 80:\n",
        "        reason.append(\"high speed\")\n",
        "    if real_time_data['Weather_Conditions_Clear'].values[0] == 0:\n",
        "        reason.append(\"bad weather conditions\")\n",
        "    if real_time_data['Traffic_Density_High'].values[0] == 1:\n",
        "        reason.append(\"high traffic density\")\n",
        "\n",
        "    if prediction[0] == 1:\n",
        "        reason_message = \" and \".join(reason) if reason else \"multiple factors\"\n",
        "        return f\"High risk of accident due to {reason_message}.\"\n",
        "    else:\n",
        "        return \"Low risk of accident.\"\n",
        "real_time_data1 = pd.DataFrame({\n",
        "    'Traffic_Volume': [1200],\n",
        "    'Road_Type_Highway': [0], 'Road_Type_Urban': [1], 'Road_Type_Rural': [0],\n",
        "    'Weather_Conditions_Clear': [0], 'Weather_Conditions_Rain': [0], 'Weather_Conditions_Fog': [1],\n",
        "    'Speed_of_Vehicle': [70],\n",
        "    'Traffic_Density_Low': [0], 'Traffic_Density_Medium': [1], 'Traffic_Density_High': [0]\n",
        "})\n",
        "real_time_data2 = pd.DataFrame({\n",
        "    'Traffic_Volume': [800],\n",
        "    'Road_Type_Highway': [0], 'Road_Type_Urban': [0], 'Road_Type_Rural': [1],\n",
        "    'Weather_Conditions_Clear': [1], 'Weather_Conditions_Rain': [0], 'Weather_Conditions_Fog': [0],\n",
        "    'Speed_of_Vehicle': [90],\n",
        "    'Traffic_Density_Low': [1], 'Traffic_Density_Medium': [0], 'Traffic_Density_High': [0]\n",
        "})\n",
        "\n",
        "real_time_data3 = pd.DataFrame({\n",
        "    'Traffic_Volume': [500],\n",
        "    'Road_Type_Highway': [0], 'Road_Type_Urban': [1], 'Road_Type_Rural': [0],\n",
        "    'Weather_Conditions_Clear': [1], 'Weather_Conditions_Rain': [0], 'Weather_Conditions_Fog': [0],\n",
        "    'Speed_of_Vehicle': [40],\n",
        "    'Traffic_Density_Low': [1], 'Traffic_Density_Medium': [0], 'Traffic_Density_High': [0]\n",
        "})\n",
        "\n",
        "print(predict_accident_risk(real_time_data1))\n",
        "print(predict_accident_risk(real_time_data2))\n",
        "print(predict_accident_risk(real_time_data3))\n"
      ],
      "metadata": {
        "colab": {
          "base_uri": "https://localhost:8080/"
        },
        "id": "-FAQOWAJck4P",
        "outputId": "48863eeb-bd94-4d0a-9307-0b1b0ff7df0d"
      },
      "execution_count": null,
      "outputs": [
        {
          "output_type": "stream",
          "name": "stdout",
          "text": [
            "High risk of accident due to bad weather conditions.\n",
            "High risk of accident due to high speed.\n",
            "Low risk of accident.\n"
          ]
        }
      ]
    },
    {
      "cell_type": "code",
      "source": [],
      "metadata": {
        "id": "7uSHqrvXdzVd"
      },
      "execution_count": null,
      "outputs": []
    }
  ]
}